{
 "cells": [
  {
   "cell_type": "markdown",
   "metadata": {},
   "source": [
    "<img src=\"../media/onda_logo.jpg\" alt=\"logo onda\" height=\"200\" width=\"200\">\n",
    "\n",
    "\n",
    "# Discover ONDA EO data offer\n",
    "[ONDA](https://www.onda-dias.eu/cms/) is a platform enabling users to discover EO data, developing applications on Cloud. In this trial notebook is shown the way to access data using:\n",
    "* The Advanced API (ENS), which allow you to acess data from a remote file system and use them via interactive Jupyter Notebooks\n",
    "* The OData API protocol, the baseline of ONDA catalogue, which you can use here via Jupyter notebooks to download products directly in your own workspace."
   ]
  },
  {
   "cell_type": "code",
   "execution_count": null,
   "metadata": {},
   "outputs": [],
   "source": [
    "import os, sys\n",
    "sys.path.append(os.path.join(os.path.expanduser(\"~\"),\"CLEOPE/Trials/modules\"))\n",
    "import qm\n",
    "username = \"username\"; password = \"password\" # ONDA auth required "
   ]
  },
  {
   "cell_type": "markdown",
   "metadata": {},
   "source": [
    "## 1. Discover ONDA Advanced API"
   ]
  },
  {
   "cell_type": "markdown",
   "metadata": {},
   "source": [
    "Here you can load a list of products of your interest and then a new list containing the target locations in the remote file system is generated. <br>\n",
    "In the folder *resources* you find a trial list of products which is converted to a full-path list compliant to ENS (read more on [ENS path to products](../../userguide.md/#pseudopaths)) so that you can use this list to start your own EO data processing.<br>The input file list can be put as the `file` argument of the `read_product_list` function, while the output filename can be set as `outfile` argument of the `pseudopath` function."
   ]
  },
  {
   "cell_type": "code",
   "execution_count": null,
   "metadata": {},
   "outputs": [],
   "source": [
    "pseudopaths = qm.pseudopath(dataframe=qm.read_product_list(file=\"resources/product_list_trial.txt\"),\n",
    "                            outfile=\"outputs/product_list_remote.txt\")"
   ]
  },
  {
   "cell_type": "markdown",
   "metadata": {},
   "source": [
    "You can do this also one product per time, using the `get_my_product` function, with the product name as its input, as shown in the esample below."
   ]
  },
  {
   "cell_type": "code",
   "execution_count": null,
   "metadata": {},
   "outputs": [],
   "source": [
    "dataframe = qm.get_my_product(\"S1A_IW_GRDH_1SDV_20191222T102745_20191222T102810_030460_037C9E_02EE.zip\")\n",
    "display(dataframe)\n",
    "pseudopath = qm.pseudopath(dataframe=dataframe,outfile=\"outputs/product_list_remote.txt\")"
   ]
  },
  {
   "cell_type": "markdown",
   "metadata": {},
   "source": [
    "## 2. Download products via OData API\n",
    "Alternatively you can download a product in the `local_files` folder, in the way shown below. Note that if the requested product is archived, its restoration is automatically triggered.<br>\n",
    "Once the download is completed the function will create/update a custom list called *list_local.txt* where the path for downloaded products in the user own workspace is written down."
   ]
  },
  {
   "cell_type": "code",
   "execution_count": null,
   "metadata": {},
   "outputs": [],
   "source": [
    "product = \"LC08_L1TP_196014_20200530_20200530_01_RT.tar.gz\" # put here the product name\n",
    "r = qm.download(product,username,password) # download in a destination folder"
   ]
  },
  {
   "cell_type": "markdown",
   "metadata": {},
   "source": [
    "Remember that you can always call the download function (wherever you are in your own workspace) by adding `modules` to path:\n",
    "````python\n",
    "import os, sys\n",
    "sys.path.append(os.path.join(os.path.expanduser(\"~\"),\"CLEOPE/Trials/modules\"))\n",
    "import qm \n",
    "````\n",
    "\n",
    "You can also download products listed in a file. Remember to specify the file format of products in the list as for the single product example. The `SEARCH` notebook will automatically provide for this input list."
   ]
  },
  {
   "cell_type": "code",
   "execution_count": null,
   "metadata": {},
   "outputs": [],
   "source": [
    "r = qm.download_list(file='outputs/product_list.txt',username=username,password=password) # download products from a custom list"
   ]
  },
  {
   "cell_type": "code",
   "execution_count": null,
   "metadata": {},
   "outputs": [],
   "source": []
  }
 ],
 "metadata": {
  "kernelspec": {
   "display_name": "Python 3",
   "language": "python",
   "name": "python3"
  },
  "language_info": {
   "codemirror_mode": {
    "name": "ipython",
    "version": 3
   },
   "file_extension": ".py",
   "mimetype": "text/x-python",
   "name": "python",
   "nbconvert_exporter": "python",
   "pygments_lexer": "ipython3",
   "version": "3.7.6"
  }
 },
 "nbformat": 4,
 "nbformat_minor": 4
}

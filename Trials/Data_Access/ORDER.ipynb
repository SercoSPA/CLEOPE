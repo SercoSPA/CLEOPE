{
 "cells": [
  {
   "cell_type": "markdown",
   "metadata": {},
   "source": [
    "<img src=\"../media/onda_logo.jpg\" alt=\"logo onda\" height=\"200\" width=\"200\">\n",
    "\n",
    "# How to order an archived product\n",
    "Products moved in the ONDA [Cloud archive](https://www.onda-dias.eu/cms/knowledge-base/cloudarchive-overview/) cannot be browsed via ENS, using their pseudopath, but first a restoring action is needed. <br>\n",
    "Follow this tutorial to order products you need directly via the ONDA OData APIs in a few simple steps."
   ]
  },
  {
   "cell_type": "code",
   "execution_count": null,
   "metadata": {},
   "outputs": [],
   "source": [
    "import os, sys, time\n",
    "sys.path.append(os.path.join(os.path.expanduser(\"~\"),\"CLEOPE/Trials/modules\"))\n",
    "import qm"
   ]
  },
  {
   "cell_type": "markdown",
   "metadata": {},
   "source": [
    "If the *offline tag* of a given product is set to `true` it means that the product is archived and CLEOPE function `order` can retrieve it. 🔎 ONDA keeps online only the last month of data.<br>\n",
    "- Specify the product name you need to restore (include the file extension for S1, Landsat-8 and Copernicus Services products - this depends on the naming conventions into ONDA archives)\n",
    "- Specify your ONDA username and password arguments to this function 👉 [Register here](https://onda-dias.eu/userportal/self-registration) if you haven't done it yet!\n",
    "- Run the cell below to trigger the ordering request\n",
    "\n",
    "Restoring actions on the ONDA Cloud Archive are typically fulfilled within 20 minutes. **In case of any error try to run again the cell after a few minutes of additional waiting.**"
   ]
  },
  {
   "cell_type": "code",
   "execution_count": null,
   "metadata": {},
   "outputs": [],
   "source": [
    "product = \"S3A_OL_2_LFR____20201108T184531_20201108T184831_20201109T232535_0179_065_013_2160_LN1_O_NT_002\" # your filename.*zip,*.nc,*.gz if needed\n",
    "username = \"username\"; password = \"password\"\n",
    "df = qm.order(product,username,password)"
   ]
  },
  {
   "cell_type": "markdown",
   "metadata": {},
   "source": [
    "⏳ When finished, the product is successfully restored and its associated metadata are updated into the online archive. This means that you will find the product at its original pseudopath and also you can download it within CLEOPE workspace. Have a look at the `DISCOVER_ONDA` trial notebook."
   ]
  },
  {
   "cell_type": "code",
   "execution_count": null,
   "metadata": {},
   "outputs": [],
   "source": [
    "status = qm.check_out_product(product) # check product status after the restoring action. If product is still not available please retry in a few minutes!"
   ]
  }
 ],
 "metadata": {
  "kernelspec": {
   "display_name": "Python 3",
   "language": "python",
   "name": "python3"
  },
  "language_info": {
   "codemirror_mode": {
    "name": "ipython",
    "version": 3
   },
   "file_extension": ".py",
   "mimetype": "text/x-python",
   "name": "python",
   "nbconvert_exporter": "python",
   "pygments_lexer": "ipython3",
   "version": "3.7.6"
  }
 },
 "nbformat": 4,
 "nbformat_minor": 4
}

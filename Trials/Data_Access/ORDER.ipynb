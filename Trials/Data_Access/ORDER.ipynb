{
 "cells": [
  {
   "cell_type": "markdown",
   "metadata": {},
   "source": [
    "<img src=\"../media/onda_logo.jpg\" alt=\"logo onda\" height=\"200\" width=\"200\">\n",
    "\n",
    "# How to order an archived product\n",
    "Products moved in the nearline archive are not present into the database, so they cannot be found via ENS by searching them via filename; they should be restored using an OData instance first. If this is the case you can follow this tutorial to order products you need directly through this template notebook in a few simple steps."
   ]
  },
  {
   "cell_type": "code",
   "execution_count": null,
   "metadata": {},
   "outputs": [],
   "source": [
    "import os, sys, time\n",
    "sys.path.append(os.path.join(os.path.expanduser(\"~\"),\"CLEOPE/Trials/modules\"))\n",
    "import qm"
   ]
  },
  {
   "cell_type": "markdown",
   "metadata": {},
   "source": [
    "Insert here the product name you need to restore:"
   ]
  },
  {
   "cell_type": "code",
   "execution_count": null,
   "metadata": {},
   "outputs": [],
   "source": [
    "product = \"S5P_OFFL_L2__SO2____20200414T051621_20200414T065752_12965_01_010108_20200416T071034.zip\" # your filename.*zip,*.nc,*.gz here!"
   ]
  },
  {
   "cell_type": "markdown",
   "metadata": {},
   "source": [
    "If the offline tag of this product is set to `true` then the function `order_product` will retrieve it. Typically restoring actions on the DB are completed into 20 minutes. \n",
    "\n",
    "Write your ONDA username and password fields to trigger the ordering request. **In case of any error try to run again the cell.**"
   ]
  },
  {
   "cell_type": "code",
   "execution_count": null,
   "metadata": {},
   "outputs": [],
   "source": [
    "username = \"username\"; password = \"password\"\n",
    "df = qm.order(product,username,password)"
   ]
  },
  {
   "cell_type": "markdown",
   "metadata": {},
   "source": [
    "Check out the progress bar above. \n",
    "When finished, the product is successfully restored and its associated metadata are updated into the online archive. This means that you will find the product at its original pseudopath and also you can download it.\n",
    "\n",
    "⏳ If product is still not available please retry in a few minutes!"
   ]
  },
  {
   "cell_type": "code",
   "execution_count": null,
   "metadata": {},
   "outputs": [],
   "source": [
    "status = qm.check_out_product(product) # check product status after the retrieval"
   ]
  }
 ],
 "metadata": {
  "kernelspec": {
   "display_name": "Python 3",
   "language": "python",
   "name": "python3"
  },
  "language_info": {
   "codemirror_mode": {
    "name": "ipython",
    "version": 3
   },
   "file_extension": ".py",
   "mimetype": "text/x-python",
   "name": "python",
   "nbconvert_exporter": "python",
   "pygments_lexer": "ipython3",
   "version": "3.7.6"
  }
 },
 "nbformat": 4,
 "nbformat_minor": 4
}

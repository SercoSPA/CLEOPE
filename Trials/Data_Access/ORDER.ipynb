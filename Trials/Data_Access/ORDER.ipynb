{
 "cells": [
  {
   "cell_type": "markdown",
   "metadata": {},
   "source": [
    "<img src=\"../media/onda_logo.jpg\" alt=\"logo onda\" height=\"200\" width=\"200\">\n",
    "\n",
    "# How to order an archived product\n",
    "Products moved in the nearline archive are not present into the database, so they cannot be found via ENS by searching them via filename; they should be restored using an OData instance first. If this is the case you can follow this tutorial to order products you need directly through this template notebook in a few simple steps.<br>\n",
    "👇👇👇<br>\n",
    "**Requirements:**\n",
    "- `requests 2.22.0`\n",
    "- `urllib3 1.24.1`\n",
    "- `numpy 1.18.1`\n",
    "- `pandas 1.0.1`\n",
    "- `tqdm 4.42.1`\n",
    "- `ipywidgets 7.5.1`"
   ]
  },
  {
   "cell_type": "code",
   "execution_count": null,
   "metadata": {},
   "outputs": [],
   "source": [
    "import os, sys\n",
    "sys.path.append(os.path.join(os.path.expanduser(\"~\"),\"Trials/modules\"))\n",
    "import qm"
   ]
  },
  {
   "cell_type": "raw",
   "metadata": {},
   "source": [
    "# uncomment and run this section only for testing. The real use case begins with the following product instance\n",
    "url = \"https://catalogue.onda-dias.eu/dias-catalogue/Products?$search=%22(%20(%20platformName:Sentinel-2%20)%20)%20AND%20(%20(%20%20(offline:true)%20)%20)%22&$orderby=creationDate%20desc&$top=3&$skip=76&$format=json\"\n",
    "data = qm.get(url)\n",
    "print(\"We could order:\\n%s\\nis\"%(data.iloc[0,2]+\"/\"+data.iloc[0,1]))\n",
    "#data.iloc[0,1] "
   ]
  },
  {
   "cell_type": "markdown",
   "metadata": {},
   "source": [
    "Insert here the product name you need to restore:"
   ]
  },
  {
   "cell_type": "code",
   "execution_count": null,
   "metadata": {},
   "outputs": [],
   "source": [
    "product = \"S2A_MSIL2A_20191215T110441_N0213_R094_T30SVG_20191215T122756.zip\" # your filename.*zip,*.nc,*.gz here!"
   ]
  },
  {
   "cell_type": "markdown",
   "metadata": {},
   "source": [
    "If the offline tag of this product is set to `true` then the function `order_product` will retrieve it. Typically restoring actions on the DB are completed into 20 minutes. \n",
    "\n",
    "Write your ONDA username and password fields to trigger the ordering request:"
   ]
  },
  {
   "cell_type": "code",
   "execution_count": null,
   "metadata": {},
   "outputs": [],
   "source": [
    "username = \"username\"\n",
    "password = \"password\""
   ]
  },
  {
   "cell_type": "code",
   "execution_count": null,
   "metadata": {},
   "outputs": [],
   "source": [
    "df = qm.order(product,username,password)\n",
    "status = qm.check_out_product(product)"
   ]
  },
  {
   "cell_type": "markdown",
   "metadata": {},
   "source": [
    "Check out the progress bar above. We have added 10 minutes to the estimated time out just to be sure that ENS is properly refreshed.\n",
    "When finished, the product is successfully restored and its associated metadata are updated into the online archive. This means that you will find the product at its original pseudopath.\n",
    "\n",
    "If product is still not available please retry later!"
   ]
  }
 ],
 "metadata": {
  "kernelspec": {
   "display_name": "Python 3",
   "language": "python",
   "name": "python3"
  },
  "language_info": {
   "codemirror_mode": {
    "name": "ipython",
    "version": 3
   },
   "file_extension": ".py",
   "mimetype": "text/x-python",
   "name": "python",
   "nbconvert_exporter": "python",
   "pygments_lexer": "ipython3",
   "version": "3.7.6"
  }
 },
 "nbformat": 4,
 "nbformat_minor": 4
}

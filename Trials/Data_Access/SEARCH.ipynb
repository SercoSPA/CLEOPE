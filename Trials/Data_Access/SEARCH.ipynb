{
 "cells": [
  {
   "cell_type": "markdown",
   "metadata": {},
   "source": [
    "<img src=\"../media/onda_logo.jpg\" alt=\"logo onda\" height=\"200\" width=\"200\">\n",
    "\n",
    "# AOI search via a Jupyter notebook\n",
    "This trial notebook allows the geographical search of ONDA EO data offer by simutating a little 🌍 [ONDA Catalogue](https://catalogue.onda-dias.eu/catalogue/) via Jupyter Notebook.\n",
    "\n",
    "## Send the query: set filters & draw a polygon on the map\n",
    "\n",
    "- Set products filters (mission, type and sensing range)\n",
    "- Select an area of interest (AOI) choosing a shape among the buttons on the left side\n",
    "- Only one polygon per time is supported by this version\n",
    "\n",
    "⚠️ Do not scroll world window and draw your AOI in a world copy. This will generate non valid coordinates for the query 👉[Issue #96](https://github.com/jupyter-widgets/ipyleaflet/issues/96)<br>\n",
    "⚠️ Remember to **Submit** each widget field to filter research results to overwrite previous selections saved.<br>\n",
    "⚠️ Please note that all the previous product lists placed in the *output* folder and named after `product_list*.txt` will be erased, if present.\n",
    "\n",
    "👉 Click on the **RUN** button and send your query via the [OData API](https://www.onda-dias.eu/cms/knowledge-base/odata-odata-open-data-protocol/) provided interface withing CLEOPE workspace. Wait untill the process is concluded; the overall duration will depend on the query."
   ]
  },
  {
   "cell_type": "code",
   "execution_count": null,
   "metadata": {},
   "outputs": [],
   "source": [
    "%run -i ../modules/catalogue.py"
   ]
  },
  {
   "cell_type": "markdown",
   "metadata": {},
   "source": [
    "## Visualise layers on the map and save selections to file\n",
    "\n",
    "Results are here interactively visualised so that you can choose products depending on the their footprint intersection upon the drawn AOI.<br>\n",
    "Choose products you wish to collect and submit each of them. This will produce a products list in the *outputs* folder placed in the current working directory. "
   ]
  },
  {
   "cell_type": "code",
   "execution_count": null,
   "metadata": {},
   "outputs": [],
   "source": [
    "%run -i ../modules/interactive_layers.py"
   ]
  },
  {
   "cell_type": "markdown",
   "metadata": {},
   "source": [
    "## Work with the product list text file\n",
    "Product list file named *product_list.txt* contains the name of all the products you decided to save up previously. Now in order to work with this product list you can choose to proceed with one of the following options.\n",
    "\n",
    "### 1. Use ONDA Advanced API (ENS)\n",
    "In this case you need to convert your product list into ENS format. Run the following cell to obtain a product list compliant to ENS [ENS path to products](../../userguide.md/#pseudopaths) and then use this list to start your own EO data processing.<br>The input file list can be put as the `file` argument of the `read_product_list` function, while the output filename can be set as `outfile` argument of the `pseudopath` function."
   ]
  },
  {
   "cell_type": "code",
   "execution_count": null,
   "metadata": {},
   "outputs": [],
   "source": [
    "import os, sys\n",
    "sys.path.append(os.path.join(os.path.expanduser(\"~\"),\"CLEOPE/Trials/modules\"))\n",
    "import qm"
   ]
  },
  {
   "cell_type": "code",
   "execution_count": null,
   "metadata": {},
   "outputs": [],
   "source": [
    "pseudopaths = qm.pseudopath(dataframe=qm.read_product_list(file=\"outputs/product_list.txt\"),\n",
    "                            outfile=\"outputs/product_list_remote.txt\")"
   ]
  },
  {
   "cell_type": "markdown",
   "metadata": {},
   "source": [
    "### 2. Download your custom product list \n",
    "\n",
    "In this case you need to download products using the [OData API](https://www.onda-dias.eu/cms/knowledge-base/odata-odata-open-data-protocol/) provided interface. Just provide your own ONDA credentials and the input file list of products (*product_list.txt* file in the example below). The downloaded files will be put in the *local_files* folder in your own workspace and the *list_local.txt* file will be created containing the path to downloaded products."
   ]
  },
  {
   "cell_type": "code",
   "execution_count": null,
   "metadata": {},
   "outputs": [],
   "source": [
    "username = \"username\"; password = \"password\" # ONDA auth required\n",
    "r = qm.download_list(file='outputs/product_list.txt',username=username,password=password) # download products from your custom list"
   ]
  },
  {
   "cell_type": "code",
   "execution_count": null,
   "metadata": {},
   "outputs": [],
   "source": []
  }
 ],
 "metadata": {
  "kernelspec": {
   "display_name": "Python 3",
   "language": "python",
   "name": "python3"
  },
  "language_info": {
   "codemirror_mode": {
    "name": "ipython",
    "version": 3
   },
   "file_extension": ".py",
   "mimetype": "text/x-python",
   "name": "python",
   "nbconvert_exporter": "python",
   "pygments_lexer": "ipython3",
   "version": "3.7.6"
  }
 },
 "nbformat": 4,
 "nbformat_minor": 4
}

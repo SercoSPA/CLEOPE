{
 "cells": [
  {
   "cell_type": "markdown",
   "metadata": {},
   "source": [
    "<img src=\"../media/onda_logo.jpg\" alt=\"logo onda\" height=\"200\" width=\"200\">\n",
    "\n",
    "# AOI search via a Jupyter notebook\n",
    "This trial notebook allows the geographical search of ONDA EO data offer by simutating a little 🌍 [ONDA Catalogue](https://catalogue.onda-dias.eu/catalogue/) via Jupyter Notebook."
   ]
  },
  {
   "cell_type": "code",
   "execution_count": 1,
   "metadata": {},
   "outputs": [],
   "source": [
    "import os, sys\n",
    "sys.path.append(os.path.join(os.path.expanduser(\"~\"),\"CLEOPE/Trials/modules\"))\n",
    "import aoi, buttons, qm\n",
    "from ipywidgets import interact"
   ]
  },
  {
   "cell_type": "markdown",
   "metadata": {},
   "source": [
    "Please note that every time you load the `button` module all the previous product lists placed in the *output* folder and named after _product_list*.txt_ will be erased, if present.\n",
    "\n",
    "## Draw a polygon on the map\n",
    "- Select an area of interest (AOI) choosing a shape among the buttons on the left side\n",
    "- Only one polygon per time is supported by this version\n",
    "- ⚠️ Do not scroll world window and draw your AOI in a world copy. This will generate non valid coordinates for the query (read more on this issue here 👉[Issue #96](https://github.com/jupyter-widgets/ipyleaflet/issues/96))"
   ]
  },
  {
   "cell_type": "code",
   "execution_count": 2,
   "metadata": {},
   "outputs": [
    {
     "data": {
      "application/vnd.jupyter.widget-view+json": {
       "model_id": "e83499e0edc64ca7b2e67025edff0dc1",
       "version_major": 2,
       "version_minor": 0
      },
      "text/plain": [
       "Map(center=[40.853294, 14.305573], controls=(ZoomControl(options=['position', 'zoom_in_text', 'zoom_in_title',…"
      ]
     },
     "metadata": {},
     "output_type": "display_data"
    }
   ],
   "source": [
    "m,dc = aoi.define_map()\n",
    "def handle_draw(self, action, geo_json):\n",
    "    print(\"Action: %s\"%action)\n",
    "    print(geo_json[\"geometry\"])\n",
    "    buttons.save_aoi(geo_json)\n",
    "\n",
    "dc.on_draw(handle_draw)\n",
    "m.add_control(dc)\n",
    "display(m)"
   ]
  },
  {
   "cell_type": "markdown",
   "metadata": {},
   "source": [
    "## Set filters\n",
    "Remember to submit each field (even if not set).<br>👇"
   ]
  },
  {
   "cell_type": "code",
   "execution_count": 3,
   "metadata": {},
   "outputs": [
    {
     "data": {
      "application/vnd.jupyter.widget-view+json": {
       "model_id": "6b9bcf4ac4514daba4479f389ed74270",
       "version_major": 2,
       "version_minor": 0
      },
      "text/plain": [
       "DatePicker(value=None, description='Sensed from:')"
      ]
     },
     "metadata": {},
     "output_type": "display_data"
    },
    {
     "data": {
      "application/vnd.jupyter.widget-view+json": {
       "model_id": "ef9bb64caaad47a6bd407d705f6834e4",
       "version_major": 2,
       "version_minor": 0
      },
      "text/plain": [
       "DatePicker(value=None, description='Sensed to:')"
      ]
     },
     "metadata": {},
     "output_type": "display_data"
    },
    {
     "data": {
      "application/vnd.jupyter.widget-view+json": {
       "model_id": "b1a8f9cc737b46dabf8dbe18d68420b2",
       "version_major": 2,
       "version_minor": 0
      },
      "text/plain": [
       "Button(description='Submit sensing range', style=ButtonStyle())"
      ]
     },
     "metadata": {},
     "output_type": "display_data"
    },
    {
     "data": {
      "application/vnd.jupyter.widget-view+json": {
       "model_id": "80a2f6c657004c5f8d5b6079761ba3d5",
       "version_major": 2,
       "version_minor": 0
      },
      "text/plain": [
       "Select(options={'All': ['-'], 'Sentinel-1': ['All S1', 'SLC', 'GRD', 'OCN', 'RAW'], 'Sentinel-2': ['All S2', '…"
      ]
     },
     "metadata": {},
     "output_type": "display_data"
    },
    {
     "data": {
      "application/vnd.jupyter.widget-view+json": {
       "model_id": "b7acdbf6dd6a406dbfaf1be6cf3ec6f5",
       "version_major": 2,
       "version_minor": 0
      },
      "text/plain": [
       "Button(description='Submit mission', style=ButtonStyle())"
      ]
     },
     "metadata": {},
     "output_type": "display_data"
    },
    {
     "data": {
      "application/vnd.jupyter.widget-view+json": {
       "model_id": "c69c05a861b64afc9643c52718119e48",
       "version_major": 2,
       "version_minor": 0
      },
      "text/plain": [
       "Output()"
      ]
     },
     "metadata": {},
     "output_type": "display_data"
    }
   ],
   "source": [
    "buttons._filters_()"
   ]
  },
  {
   "cell_type": "markdown",
   "metadata": {},
   "source": [
    "## Send the query\n",
    "\n",
    "Running the cell below you will get results from the ONDA catalogue using the [OData API](https://www.onda-dias.eu/cms/knowledge-base/odata-odata-open-data-protocol/) provided interface withing your own CLEOPE workspace. Wait untill the process is concluded; its overall duration will depend on the query."
   ]
  },
  {
   "cell_type": "code",
   "execution_count": 5,
   "metadata": {},
   "outputs": [
    {
     "name": "stdout",
     "output_type": "stream",
     "text": [
      "Searching for products...\n",
      "https://catalogue.onda-dias.eu/dias-catalogue/Products/$count?$search=%22(%20(%20(%20platformName:Sentinel-5 Precursor%20AND%20productType:L2__CO____%20)%20)%20AND%20(%20(%20beginPosition:[2020-07-01T00:00:00.000Z%20TO%202020-07-02T23:59:59.999Z]%20AND%20endPosition:[2020-07-01T00:00:00.000Z%20TO%202020-07-02T23:59:59.999Z]%20)%20)%20)%20AND%20footprint:%22Intersects(POLYGON((19.682717%2032.235262,19.682717%2041.099362,33.228846%2041.099362,33.228846%2032.235262,19.682717%2032.235262)))%22%22\n",
      "2 products found\n"
     ]
    },
    {
     "data": {
      "application/vnd.jupyter.widget-view+json": {
       "model_id": "0e03543f563a4ce19a55bb680c0d8f6b",
       "version_major": 2,
       "version_minor": 0
      },
      "text/plain": [
       "HBox(children=(IntProgress(value=0, description='Loading query', max=1, style=ProgressStyle(description_width=…"
      ]
     },
     "metadata": {},
     "output_type": "display_data"
    },
    {
     "name": "stdout",
     "output_type": "stream",
     "text": [
      "\n"
     ]
    }
   ],
   "source": [
    "polysel = buttons.read_aoi()\n",
    "item = buttons.read_mp()\n",
    "sensing = buttons.read_sen()\n",
    "n = aoi.count(polysel,item,sensing)\n",
    "df = aoi.search(n,polysel,item,sensing)"
   ]
  },
  {
   "cell_type": "markdown",
   "metadata": {},
   "source": [
    "## Visualise layers on the map\n",
    "\n",
    "Results are here interactively visualised so that you can choose products depending on the their footprint intersection upon the drawn AOI."
   ]
  },
  {
   "cell_type": "code",
   "execution_count": 6,
   "metadata": {},
   "outputs": [
    {
     "data": {
      "application/vnd.jupyter.widget-view+json": {
       "model_id": "d6b95045ff5145d0a89379a9e92cc3f9",
       "version_major": 2,
       "version_minor": 0
      },
      "text/plain": [
       "interactive(children=(Dropdown(description='product', options=('S5P_OFFL_L2__CO_____20200701T092050_20200701T1…"
      ]
     },
     "metadata": {},
     "output_type": "display_data"
    }
   ],
   "source": [
    "@interact\n",
    "def _iFP_(product=[f for f in df.iloc[:,1]]): \n",
    "    keys = df.index[df['name'] == product].tolist()\n",
    "    m = aoi.update_Map(keys,polysel,df)\n",
    "    display(m)\n",
    "    display(df.loc[keys])\n",
    "    aoi.warning(df.loc[keys].iloc[:,6].any())\n",
    "    print(\"Find item using ENS at pseudopath:\\n%s\"%os.path.join(str(df.loc[keys].iloc[:,2].any()),str(df.loc[keys].iloc[:,1].any())))"
   ]
  },
  {
   "cell_type": "markdown",
   "metadata": {},
   "source": [
    "## Save up products in a text file\n",
    "\n",
    "Choose products you wish to collect and submit each of them. This will produce a products list in the *output* folder of CLEOPE workspace. "
   ]
  },
  {
   "cell_type": "code",
   "execution_count": 7,
   "metadata": {},
   "outputs": [
    {
     "data": {
      "application/vnd.jupyter.widget-view+json": {
       "model_id": "223987b816d6469ea2351bf4a0b650a1",
       "version_major": 2,
       "version_minor": 0
      },
      "text/plain": [
       "VBox(children=(SelectMultiple(description='Product', index=(0,), layout=Layout(width='100%'), options=('S5P_OF…"
      ]
     },
     "metadata": {},
     "output_type": "display_data"
    }
   ],
   "source": [
    "sel = buttons.select_product(df)\n",
    "sel.display_widgets() "
   ]
  },
  {
   "cell_type": "markdown",
   "metadata": {},
   "source": [
    "## Work with the product list text file\n",
    "Product list file named *product_list.txt* contains the name of all the products you decided to save up previously. Now in order to work with this product list you can choose to proceed with one of the following options.\n",
    "\n",
    "### 1. Use ONDA Advanced API (ENS)\n",
    "In this case you need to convert your product list into ENS format. Run the following cell to obtain a product list compliant to ENS [ENS path to products](../readme.md/#pseudopaths) and then use this list to start your own EO data processing.<br>The input file list can be put as the `file` argument of the `read_product_list` function, while the output filename can be set as `outfile` argument of the `pseudopath` function."
   ]
  },
  {
   "cell_type": "code",
   "execution_count": null,
   "metadata": {},
   "outputs": [],
   "source": [
    "pseudopaths = qm.pseudopath(dataframe=qm.read_product_list(file=\"outputs/product_list.txt\"),\n",
    "                            outfile=\"outputs/product_list_remote.txt\")"
   ]
  },
  {
   "cell_type": "markdown",
   "metadata": {},
   "source": [
    "### 2. Download your custom product list \n",
    "\n",
    "In this case you need to download products using the [OData API](https://www.onda-dias.eu/cms/knowledge-base/odata-odata-open-data-protocol/) provided interface. Just provide your own ONDA credentials and the input file list of products (*product_list.txt* file in the example below). The downloaded files will be put in the *local_files* folder in your own workspace and the *list_local.txt* file will be created containing the path to downloaded products."
   ]
  },
  {
   "cell_type": "code",
   "execution_count": null,
   "metadata": {},
   "outputs": [],
   "source": [
    "username = \"username\"; password = \"password\" # ONDA auth required\n",
    "r = qm.download_list(file='outputs/product_list.txt',username=username,password=password) # download products from your custom list"
   ]
  },
  {
   "cell_type": "code",
   "execution_count": null,
   "metadata": {},
   "outputs": [],
   "source": []
  }
 ],
 "metadata": {
  "kernelspec": {
   "display_name": "Python 3",
   "language": "python",
   "name": "python3"
  },
  "language_info": {
   "codemirror_mode": {
    "name": "ipython",
    "version": 3
   },
   "file_extension": ".py",
   "mimetype": "text/x-python",
   "name": "python",
   "nbconvert_exporter": "python",
   "pygments_lexer": "ipython3",
   "version": "3.7.6"
  }
 },
 "nbformat": 4,
 "nbformat_minor": 4
}

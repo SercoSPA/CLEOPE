{
 "cells": [
  {
   "cell_type": "markdown",
   "metadata": {},
   "source": [
    "# Copernicus Land vegetation coverage mapping\n",
    "\n",
    "🌱 In this tutorial the bio-geophysical products of CGLS are visualised on a map, so that monitoring the status and evolution of the land surface, at global scale at the resolution of 1 km.<br>\n",
    "Choose an index of interest and plot it out!"
   ]
  },
  {
   "cell_type": "code",
   "execution_count": null,
   "metadata": {},
   "outputs": [],
   "source": [
    "import os, sys\n",
    "sys.path.append(os.path.join(os.path.expanduser(\"~\"),\"Trials/modules\"))\n",
    "import cgls\n",
    "import hvplot.xarray"
   ]
  },
  {
   "cell_type": "markdown",
   "metadata": {},
   "source": [
    "## Global scale plot\n",
    "This trial notebook uses the power of [ONDA Advanced API (ENS)](https://www.onda-dias.eu/cms/knowledge-base/adapi-introduction/) to search for Copernicus-land products. Specify the variable of interest via the widget below."
   ]
  },
  {
   "cell_type": "code",
   "execution_count": null,
   "metadata": {},
   "outputs": [],
   "source": [
    "cgls._select_()"
   ]
  },
  {
   "cell_type": "code",
   "execution_count": null,
   "metadata": {},
   "outputs": [],
   "source": [
    "ds,t = cgls.dataset()"
   ]
  },
  {
   "cell_type": "code",
   "execution_count": null,
   "metadata": {},
   "outputs": [],
   "source": [
    "import cartopy.crs as ccrs\n",
    "ds.sel(lon=slice(-10,40),lat=slice(60,30)).hvplot.quadmesh('lon','lat',cmap='gist_earth_r',rasterize=True,frame_width=700,frame_height=350,title=t,\n",
    "                  crs=ccrs.PlateCarree(), projection=ccrs.PlateCarree(),coastline=True,geo=True,project=True)"
   ]
  }
 ],
 "metadata": {
  "kernelspec": {
   "display_name": "Python 3",
   "language": "python",
   "name": "python3"
  },
  "language_info": {
   "codemirror_mode": {
    "name": "ipython",
    "version": 3
   },
   "file_extension": ".py",
   "mimetype": "text/x-python",
   "name": "python",
   "nbconvert_exporter": "python",
   "pygments_lexer": "ipython3",
   "version": "3.7.3"
  }
 },
 "nbformat": 4,
 "nbformat_minor": 4
}

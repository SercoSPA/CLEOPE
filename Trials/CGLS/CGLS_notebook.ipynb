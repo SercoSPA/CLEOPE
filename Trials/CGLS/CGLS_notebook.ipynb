{
 "cells": [
  {
   "cell_type": "markdown",
   "metadata": {},
   "source": [
    "# Copernicus Land vegetation coverage mapping\n",
    "\n",
    "Let's dive into Copernicus Global Land Services! 🌱 In this tutorial the bio-geophysical products of CGLS are visualised on an interactive map, on the status and evolution of the land surface, at global scale at the resolution of 1 km.<br>\n",
    "Choose a variable to monitor and plot it out!"
   ]
  },
  {
   "cell_type": "markdown",
   "metadata": {},
   "source": [
    " 👇 Python requirements for this notebook:\n",
    "````python\n",
    "pip install datashader==0.10.0\n",
    "pip install bokeh==1.2.0\n",
    "pip install holoviews==1.12.7\n",
    "pip install hvplot==0.5.2\n",
    "````\n",
    "`jupyter labextensions` <font color=\"red\">**to be installed**</font>\n",
    "```` python\n",
    "jupyter nbextension list\n",
    "jupyter labextension list\n",
    "````"
   ]
  },
  {
   "cell_type": "raw",
   "metadata": {},
   "source": [
    "# install the following packages (user own workspace)\n",
    "!pip install datashader==0.10.0\n",
    "!pip install bokeh==1.2.0\n",
    "!pip install hvplot==0.5.2"
   ]
  },
  {
   "cell_type": "code",
   "execution_count": null,
   "metadata": {},
   "outputs": [],
   "source": [
    "import cgls\n",
    "import hvplot.xarray"
   ]
  },
  {
   "cell_type": "markdown",
   "metadata": {},
   "source": [
    "## Global scale plot\n",
    "This trial notebook uses the power of [ONDA Advanced API (ENS)](https://www.onda-dias.eu/cms/knowledge-base/adapi-introduction/) to search for Copernicus-land products. Specify the variable of interest via the widget below."
   ]
  },
  {
   "cell_type": "code",
   "execution_count": null,
   "metadata": {},
   "outputs": [],
   "source": [
    "cgls._select_()"
   ]
  },
  {
   "cell_type": "code",
   "execution_count": null,
   "metadata": {},
   "outputs": [],
   "source": [
    "ds,t = cgls.dataset()\n",
    "ds.hvplot.quadmesh('lon','lat',cmap='gist_earth_r',rasterize=True,frame_width=700,frame_height=350,title=t)"
   ]
  },
  {
   "cell_type": "code",
   "execution_count": null,
   "metadata": {},
   "outputs": [],
   "source": []
  }
 ],
 "metadata": {
  "kernelspec": {
   "display_name": "Python 3",
   "language": "python",
   "name": "python3"
  },
  "language_info": {
   "codemirror_mode": {
    "name": "ipython",
    "version": 3
   },
   "file_extension": ".py",
   "mimetype": "text/x-python",
   "name": "python",
   "nbconvert_exporter": "python",
   "pygments_lexer": "ipython3",
   "version": "3.7.6"
  }
 },
 "nbformat": 4,
 "nbformat_minor": 4
}

{
 "cells": [
  {
   "cell_type": "markdown",
   "metadata": {},
   "source": [
    "<img src=\"media/onda_logo.jpg\" alt=\"logo onda\" height=\"200\" width=\"200\">\n",
    "\n",
    "\n",
    "# Discover ONDA EO data offer! \n",
    "[ONDA](https://www.onda-dias.eu/cms/) is a platform enabling users to discover EO data, devoloping applications on Cloud. In this trial notebook we show you the way to access data using:\n",
    "* The Advanced API (ENS), which allow you to acess data from a remote file system and use them via interactive Jupyter Notebooks\n",
    "* The OData API protocol, the baseline of ONDA catalogue, which you can use here via Jupyter notebooks to download products directly in your own workspace.\n",
    "\n",
    "Let's go!"
   ]
  },
  {
   "cell_type": "code",
   "execution_count": 1,
   "metadata": {},
   "outputs": [],
   "source": [
    "from modules import qm as qm"
   ]
  },
  {
   "cell_type": "markdown",
   "metadata": {},
   "source": [
    "## 1. Discover ONDA Advanced API"
   ]
  },
  {
   "cell_type": "markdown",
   "metadata": {},
   "source": [
    "Load a list of products of your interest; the following instance will generate a list containing the target locations in the remote file system.<br>\n",
    "In the folder `resources` you find a trial list of products which is converted to a full-path list compliant to ENS. You can check the variable `pseudopath` which is also printed out in the folder `resources`."
   ]
  },
  {
   "cell_type": "code",
   "execution_count": 3,
   "metadata": {},
   "outputs": [
    {
     "data": {
      "application/vnd.jupyter.widget-view+json": {
       "model_id": "ba112143419244b2ac3431bb2a49a0db",
       "version_major": 2,
       "version_minor": 0
      },
      "text/plain": [
       "HBox(children=(FloatProgress(value=0.0, description='Waiting for ONDA catalogue', max=10.0, style=ProgressStyl…"
      ]
     },
     "metadata": {},
     "output_type": "display_data"
    },
    {
     "name": "stdout",
     "output_type": "stream",
     "text": [
      "\n"
     ]
    },
    {
     "data": {
      "text/html": [
       "<div>\n",
       "<style scoped>\n",
       "    .dataframe tbody tr th:only-of-type {\n",
       "        vertical-align: middle;\n",
       "    }\n",
       "\n",
       "    .dataframe tbody tr th {\n",
       "        vertical-align: top;\n",
       "    }\n",
       "\n",
       "    .dataframe thead th {\n",
       "        text-align: right;\n",
       "    }\n",
       "</style>\n",
       "<table border=\"1\" class=\"dataframe\">\n",
       "  <thead>\n",
       "    <tr style=\"text-align: right;\">\n",
       "      <th></th>\n",
       "      <th>id</th>\n",
       "      <th>name</th>\n",
       "      <th>pseudopath</th>\n",
       "      <th>beginPosition</th>\n",
       "      <th>footprint</th>\n",
       "      <th>size</th>\n",
       "      <th>offline</th>\n",
       "    </tr>\n",
       "  </thead>\n",
       "  <tbody>\n",
       "    <tr>\n",
       "      <th>0</th>\n",
       "      <td>e36c0ee3-81d4-4d29-951a-ba0755171d89</td>\n",
       "      <td>S2A_MSIL2A_20191213T070301_N0213_R063_T40TEP_2...</td>\n",
       "      <td>OPTICAL/LEVEL-2A/2019/12/13</td>\n",
       "      <td>2019-12-13T07:03:01.024Z</td>\n",
       "      <td>MULTIPOLYGON (((58.3524940324834 43.2567942942...</td>\n",
       "      <td>1.202830e+09</td>\n",
       "      <td>False</td>\n",
       "    </tr>\n",
       "    <tr>\n",
       "      <th>1</th>\n",
       "      <td>e68a7c2e-5ff4-49d4-a9db-faa14f91b475</td>\n",
       "      <td>S2A_MSIL2A_20191213T070301_N0213_R063_T40SEH_2...</td>\n",
       "      <td>OPTICAL/LEVEL-2A/2019/12/13</td>\n",
       "      <td>2019-12-13T07:03:01.024Z</td>\n",
       "      <td>MULTIPOLYGON (((58.2478654087227 37.8528295032...</td>\n",
       "      <td>1.227633e+09</td>\n",
       "      <td>False</td>\n",
       "    </tr>\n",
       "    <tr>\n",
       "      <th>2</th>\n",
       "      <td>e6d5851f-6124-47bd-87e1-4c4d43fbe9fa</td>\n",
       "      <td>S1A_IW_SLC__1SDV_20180223T011634_20180223T0117...</td>\n",
       "      <td>RADAR/LEVEL-1/2018/02/23</td>\n",
       "      <td>2018-02-23T01:16:34.211Z</td>\n",
       "      <td>POLYGON ((71.507584 27.833599,68.951004 28.247...</td>\n",
       "      <td>4.689046e+09</td>\n",
       "      <td>False</td>\n",
       "    </tr>\n",
       "    <tr>\n",
       "      <th>3</th>\n",
       "      <td>940c9b6d-8bb2-41ab-85bb-8f3dc2c5d2bd</td>\n",
       "      <td>S5P_OFFL_L2__NP_BD7_20190409T125849_20190409T1...</td>\n",
       "      <td>ATMOSPHERIC/LEVEL-2/2019/04/09</td>\n",
       "      <td>2019-04-09T13:20:23Z</td>\n",
       "      <td>MULTIPOLYGON (((-135.955271223922 64.501719591...</td>\n",
       "      <td>1.629098e+08</td>\n",
       "      <td>False</td>\n",
       "    </tr>\n",
       "    <tr>\n",
       "      <th>4</th>\n",
       "      <td>6deeeb68-0a1b-4f0a-bb13-9f49267c4afe</td>\n",
       "      <td>S3A_SL_1_RBT____20171022T181525_20171022T18182...</td>\n",
       "      <td>OPTICAL/LEVEL-1/2017/10/22</td>\n",
       "      <td>2017-10-22T18:15:24.626Z</td>\n",
       "      <td>POLYGON ((-135.391 -10.3012, -134.94 -10.4158,...</td>\n",
       "      <td>5.201218e+08</td>\n",
       "      <td>True</td>\n",
       "    </tr>\n",
       "    <tr>\n",
       "      <th>5</th>\n",
       "      <td>7b37538d-0db6-3ea3-92b5-a22a399ed849</td>\n",
       "      <td>g2_BIOPAR_DMP_201801110000_H23V10_PROBAV_V1.0.zip</td>\n",
       "      <td>Copernicus-land/DMP/2018/01/11</td>\n",
       "      <td>2018-01-11T00:00:00Z</td>\n",
       "      <td>NaN</td>\n",
       "      <td>3.553600e+04</td>\n",
       "      <td>False</td>\n",
       "    </tr>\n",
       "    <tr>\n",
       "      <th>6</th>\n",
       "      <td>f38a00e8-a6d1-3305-8ecb-5b14684274d0</td>\n",
       "      <td>z_cams_c_ecmf_20190422120000_prod_fc_sfc_040_a...</td>\n",
       "      <td>Copernicus-atmosphere/FORECAST/SURFACE_FIELDS/...</td>\n",
       "      <td>2019-04-22T12:00:00Z</td>\n",
       "      <td>NaN</td>\n",
       "      <td>8.183240e+05</td>\n",
       "      <td>False</td>\n",
       "    </tr>\n",
       "    <tr>\n",
       "      <th>7</th>\n",
       "      <td>a9083bbb-3581-3151-9768-881a17e49417</td>\n",
       "      <td>20190729_d-ACRI-L3-SPM-MULTI_4KM-GLO-DT-v02.nc</td>\n",
       "      <td>Copernicus-marine/OCEANCOLOUR_GLO_OPTICS_L3_NR...</td>\n",
       "      <td>2019-07-28T16:11:53Z</td>\n",
       "      <td>NaN</td>\n",
       "      <td>4.007691e+07</td>\n",
       "      <td>False</td>\n",
       "    </tr>\n",
       "    <tr>\n",
       "      <th>8</th>\n",
       "      <td>024ac8e6-a985-38f4-9f61-d1fc5d80447f</td>\n",
       "      <td>EN1_OPDE_ASA_IM__0P_20100127T021042_20100127T0...</td>\n",
       "      <td>RADAR/LEVEL-0/2010/01/27</td>\n",
       "      <td>2010-01-27T02:10:42.43Z</td>\n",
       "      <td>POLYGON ((-84.4 75.73, -85.95 76.55, -87.69 77...</td>\n",
       "      <td>9.116274e+08</td>\n",
       "      <td>False</td>\n",
       "    </tr>\n",
       "    <tr>\n",
       "      <th>9</th>\n",
       "      <td>ed1d3d34-e29c-328b-a017-c8430f53dcc6</td>\n",
       "      <td>LC08_L1TP_191048_20190829_20190903_01_T1.tar.gz</td>\n",
       "      <td>OPTICAL/LEVEL-1/2019/08/29</td>\n",
       "      <td>2019-08-29T10:00:20.492Z</td>\n",
       "      <td>MULTIPOLYGON (((6.68278 16.28128,6.72459 18.36...</td>\n",
       "      <td>1.009136e+09</td>\n",
       "      <td>False</td>\n",
       "    </tr>\n",
       "  </tbody>\n",
       "</table>\n",
       "</div>"
      ],
      "text/plain": [
       "                                     id  \\\n",
       "0  e36c0ee3-81d4-4d29-951a-ba0755171d89   \n",
       "1  e68a7c2e-5ff4-49d4-a9db-faa14f91b475   \n",
       "2  e6d5851f-6124-47bd-87e1-4c4d43fbe9fa   \n",
       "3  940c9b6d-8bb2-41ab-85bb-8f3dc2c5d2bd   \n",
       "4  6deeeb68-0a1b-4f0a-bb13-9f49267c4afe   \n",
       "5  7b37538d-0db6-3ea3-92b5-a22a399ed849   \n",
       "6  f38a00e8-a6d1-3305-8ecb-5b14684274d0   \n",
       "7  a9083bbb-3581-3151-9768-881a17e49417   \n",
       "8  024ac8e6-a985-38f4-9f61-d1fc5d80447f   \n",
       "9  ed1d3d34-e29c-328b-a017-c8430f53dcc6   \n",
       "\n",
       "                                                name  \\\n",
       "0  S2A_MSIL2A_20191213T070301_N0213_R063_T40TEP_2...   \n",
       "1  S2A_MSIL2A_20191213T070301_N0213_R063_T40SEH_2...   \n",
       "2  S1A_IW_SLC__1SDV_20180223T011634_20180223T0117...   \n",
       "3  S5P_OFFL_L2__NP_BD7_20190409T125849_20190409T1...   \n",
       "4  S3A_SL_1_RBT____20171022T181525_20171022T18182...   \n",
       "5  g2_BIOPAR_DMP_201801110000_H23V10_PROBAV_V1.0.zip   \n",
       "6  z_cams_c_ecmf_20190422120000_prod_fc_sfc_040_a...   \n",
       "7     20190729_d-ACRI-L3-SPM-MULTI_4KM-GLO-DT-v02.nc   \n",
       "8  EN1_OPDE_ASA_IM__0P_20100127T021042_20100127T0...   \n",
       "9    LC08_L1TP_191048_20190829_20190903_01_T1.tar.gz   \n",
       "\n",
       "                                          pseudopath  \\\n",
       "0                        OPTICAL/LEVEL-2A/2019/12/13   \n",
       "1                        OPTICAL/LEVEL-2A/2019/12/13   \n",
       "2                           RADAR/LEVEL-1/2018/02/23   \n",
       "3                     ATMOSPHERIC/LEVEL-2/2019/04/09   \n",
       "4                         OPTICAL/LEVEL-1/2017/10/22   \n",
       "5                     Copernicus-land/DMP/2018/01/11   \n",
       "6  Copernicus-atmosphere/FORECAST/SURFACE_FIELDS/...   \n",
       "7  Copernicus-marine/OCEANCOLOUR_GLO_OPTICS_L3_NR...   \n",
       "8                           RADAR/LEVEL-0/2010/01/27   \n",
       "9                         OPTICAL/LEVEL-1/2019/08/29   \n",
       "\n",
       "              beginPosition  \\\n",
       "0  2019-12-13T07:03:01.024Z   \n",
       "1  2019-12-13T07:03:01.024Z   \n",
       "2  2018-02-23T01:16:34.211Z   \n",
       "3      2019-04-09T13:20:23Z   \n",
       "4  2017-10-22T18:15:24.626Z   \n",
       "5      2018-01-11T00:00:00Z   \n",
       "6      2019-04-22T12:00:00Z   \n",
       "7      2019-07-28T16:11:53Z   \n",
       "8   2010-01-27T02:10:42.43Z   \n",
       "9  2019-08-29T10:00:20.492Z   \n",
       "\n",
       "                                           footprint          size offline  \n",
       "0  MULTIPOLYGON (((58.3524940324834 43.2567942942...  1.202830e+09   False  \n",
       "1  MULTIPOLYGON (((58.2478654087227 37.8528295032...  1.227633e+09   False  \n",
       "2  POLYGON ((71.507584 27.833599,68.951004 28.247...  4.689046e+09   False  \n",
       "3  MULTIPOLYGON (((-135.955271223922 64.501719591...  1.629098e+08   False  \n",
       "4  POLYGON ((-135.391 -10.3012, -134.94 -10.4158,...  5.201218e+08    True  \n",
       "5                                                NaN  3.553600e+04   False  \n",
       "6                                                NaN  8.183240e+05   False  \n",
       "7                                                NaN  4.007691e+07   False  \n",
       "8  POLYGON ((-84.4 75.73, -85.95 76.55, -87.69 77...  9.116274e+08   False  \n",
       "9  MULTIPOLYGON (((6.68278 16.28128,6.72459 18.36...  1.009136e+09   False  "
      ]
     },
     "metadata": {},
     "output_type": "display_data"
    },
    {
     "name": "stdout",
     "output_type": "stream",
     "text": [
      "Warning! Some products in your dataframe are archived! Trigger an order request first. \n",
      "Check out ORDER notebook to discover how to do it!\n",
      "\n",
      "Pseudopaths saved in /home/jupyter-g.cipolletta/Trials/resources/pseudopath_file.txt\n"
     ]
    }
   ],
   "source": [
    "pseudopaths = qm.pseudopath(qm.read_product_list())"
   ]
  },
  {
   "cell_type": "markdown",
   "metadata": {},
   "source": [
    "In the same way you can provide also one product name at a time, as shown below."
   ]
  },
  {
   "cell_type": "code",
   "execution_count": 2,
   "metadata": {},
   "outputs": [
    {
     "data": {
      "text/html": [
       "<div>\n",
       "<style scoped>\n",
       "    .dataframe tbody tr th:only-of-type {\n",
       "        vertical-align: middle;\n",
       "    }\n",
       "\n",
       "    .dataframe tbody tr th {\n",
       "        vertical-align: top;\n",
       "    }\n",
       "\n",
       "    .dataframe thead th {\n",
       "        text-align: right;\n",
       "    }\n",
       "</style>\n",
       "<table border=\"1\" class=\"dataframe\">\n",
       "  <thead>\n",
       "    <tr style=\"text-align: right;\">\n",
       "      <th></th>\n",
       "      <th>id</th>\n",
       "      <th>name</th>\n",
       "      <th>pseudopath</th>\n",
       "      <th>beginPosition</th>\n",
       "      <th>footprint</th>\n",
       "      <th>size</th>\n",
       "      <th>offline</th>\n",
       "    </tr>\n",
       "  </thead>\n",
       "  <tbody>\n",
       "    <tr>\n",
       "      <th>0</th>\n",
       "      <td>e36c0ee3-81d4-4d29-951a-ba0755171d89</td>\n",
       "      <td>S2A_MSIL2A_20191213T070301_N0213_R063_T40TEP_2...</td>\n",
       "      <td>OPTICAL/LEVEL-2A/2019/12/13</td>\n",
       "      <td>2019-12-13T07:03:01.024Z</td>\n",
       "      <td>MULTIPOLYGON (((58.3524940324834 43.2567942942...</td>\n",
       "      <td>1.202830e+09</td>\n",
       "      <td>False</td>\n",
       "    </tr>\n",
       "  </tbody>\n",
       "</table>\n",
       "</div>"
      ],
      "text/plain": [
       "                                     id  \\\n",
       "0  e36c0ee3-81d4-4d29-951a-ba0755171d89   \n",
       "\n",
       "                                                name  \\\n",
       "0  S2A_MSIL2A_20191213T070301_N0213_R063_T40TEP_2...   \n",
       "\n",
       "                    pseudopath             beginPosition  \\\n",
       "0  OPTICAL/LEVEL-2A/2019/12/13  2019-12-13T07:03:01.024Z   \n",
       "\n",
       "                                           footprint          size offline  \n",
       "0  MULTIPOLYGON (((58.3524940324834 43.2567942942...  1.202830e+09   False  "
      ]
     },
     "metadata": {},
     "output_type": "display_data"
    },
    {
     "name": "stdout",
     "output_type": "stream",
     "text": [
      "Find out the path into ENS:\n",
      "/mnt/Copernicus/OPTICAL/LEVEL-2A/2019/12/13/S2A_MSIL2A_20191213T070301_N0213_R063_T40TEP_20191213T094104.zip\n",
      "Pseudopaths saved in /home/jupyter-g.cipolletta/Trials/resources/pseudopath_file.txt\n"
     ]
    }
   ],
   "source": [
    "dataframe = qm.get_my_product(\"S2A_MSIL2A_20191213T070301_N0213_R063_T40TEP_20191213T094104.zip\")\n",
    "display(dataframe)\n",
    "pseudopath = qm.pseudopath(dataframe)"
   ]
  },
  {
   "cell_type": "markdown",
   "metadata": {},
   "source": [
    "## 2. Download products via OData API\n",
    "Alternatively you can download a product in a `local_files` folder, in the way shown below."
   ]
  },
  {
   "cell_type": "code",
   "execution_count": null,
   "metadata": {},
   "outputs": [],
   "source": [
    "username = \"gaia.cipolletta@inaf.it\"; password = \"Gaia1992@ondadias\" # ONDA auth required \n",
    "product = \"z_cams_c_ecmf_20200325000000_prod_an_sfc_000_tcco.nc\" # put here the product\n",
    "r = qm.download(product,username,password) # download in a destination folder"
   ]
  },
  {
   "cell_type": "markdown",
   "metadata": {},
   "source": [
    "Remember that you can always call the download function by adding `modules` to path:\n",
    "````python\n",
    "import os, sys\n",
    "sys.path.append(os.path.join(os.path.expanduser(\"~\"),\"Trials/modules\"))\n",
    "import qm \n",
    "````"
   ]
  },
  {
   "cell_type": "code",
   "execution_count": null,
   "metadata": {},
   "outputs": [],
   "source": []
  }
 ],
 "metadata": {
  "kernelspec": {
   "display_name": "Python 3",
   "language": "python",
   "name": "python3"
  },
  "language_info": {
   "codemirror_mode": {
    "name": "ipython",
    "version": 3
   },
   "file_extension": ".py",
   "mimetype": "text/x-python",
   "name": "python",
   "nbconvert_exporter": "python",
   "pygments_lexer": "ipython3",
   "version": "3.7.6"
  }
 },
 "nbformat": 4,
 "nbformat_minor": 2
}

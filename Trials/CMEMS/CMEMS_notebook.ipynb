{
 "cells": [
  {
   "cell_type": "markdown",
   "metadata": {},
   "source": [
    "# Copernicus Marine global analysis daily mean interactive maps\n",
    "\n",
    "Let's dive into Copernicus Marine global ocean monitoring indicators! Select a period of reference and visualise layers on the map! <br>\n",
    "👇👇👇<br>\n",
    "**Requirements:**\n",
    "- `xarray 0.15.0`\n",
    "- `numpy 1.18.1`\n",
    "- `pandas 1.0.1`\n",
    "- `datashader 0.10.0`\n",
    "- `bokeh 1.2.0`\n",
    "- `holoviews 1.12.7`\n",
    "- `hvplot 0.5.2`\n",
    "- `ipywidgets 7.5.1`\n",
    "\n",
    "**Check out extensions:**\n",
    "````python\n",
    "jupyter nbextension list\n",
    "jupyter labextension list\n",
    "````"
   ]
  },
  {
   "cell_type": "code",
   "execution_count": null,
   "metadata": {},
   "outputs": [],
   "source": [
    "import os, sys\n",
    "sys.path.append(os.path.join(os.path.expanduser(\"~\"),\"Trials/modules\"))\n",
    "import cmems\n",
    "import hvplot.xarray"
   ]
  },
  {
   "cell_type": "markdown",
   "metadata": {},
   "source": [
    "## Select the timeseries range and a variable to monitor\n",
    "You can use [ONDA Advanced API (ENS)](https://www.onda-dias.eu/cms/knowledge-base/adapi-introduction/) to search for CMEMS products you are interested in. All you need is to specify the period and the variable of interest via the widget below."
   ]
  },
  {
   "cell_type": "code",
   "execution_count": null,
   "metadata": {},
   "outputs": [],
   "source": [
    "cmems._select_()"
   ]
  },
  {
   "cell_type": "markdown",
   "metadata": {},
   "source": [
    "You can change the frequence parameter among `D` (daily), `W` (weekly) and `M` (monthly) options and add also an integer fraction (e.g. `3 D`, `2 W`). <br> <font color=\"green\">Remember<font> to leave a white space between the string indicating frequence and the desired fraction."
   ]
  },
  {
   "cell_type": "code",
   "execution_count": null,
   "metadata": {},
   "outputs": [],
   "source": [
    "im = cmems._processing_(freq=\"M\")"
   ]
  },
  {
   "cell_type": "markdown",
   "metadata": {},
   "source": [
    "### Time series visualization \n",
    "Visualize the timeseries in the plot below, playing with the slider on the right to change dates. <br>\n",
    "📌 Note that variables showing _depth_ dimension are slower to load but in the end also the depth slider widget is shown."
   ]
  },
  {
   "cell_type": "code",
   "execution_count": null,
   "metadata": {},
   "outputs": [],
   "source": [
    "im.hvplot.quadmesh('lon','lat',cmap='viridis',rasterize=True,dynamic=False,frame_width=700,frame_height=350)"
   ]
  },
  {
   "cell_type": "code",
   "execution_count": null,
   "metadata": {},
   "outputs": [],
   "source": []
  }
 ],
 "metadata": {
  "kernelspec": {
   "display_name": "Python 3",
   "language": "python",
   "name": "python3"
  },
  "language_info": {
   "codemirror_mode": {
    "name": "ipython",
    "version": 3
   },
   "file_extension": ".py",
   "mimetype": "text/x-python",
   "name": "python",
   "nbconvert_exporter": "python",
   "pygments_lexer": "ipython3",
   "version": "3.7.6"
  }
 },
 "nbformat": 4,
 "nbformat_minor": 4
}

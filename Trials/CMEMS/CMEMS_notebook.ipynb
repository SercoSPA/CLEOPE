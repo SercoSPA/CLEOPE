{
 "cells": [
  {
   "cell_type": "markdown",
   "metadata": {},
   "source": [
    "# Copernicus Marine global analysis daily mean interactive color maps\n",
    "\n",
    "Let's discover the Copernicus Marine global ocean monitoring indicators! Select a period of reference and visualise temporal changes in an interactive map. "
   ]
  },
  {
   "cell_type": "code",
   "execution_count": null,
   "metadata": {},
   "outputs": [],
   "source": [
    "import os, sys\n",
    "sys.path.append(os.path.join(os.path.expanduser(\"~\"),\"CLEOPE/Trials/modules\"))\n",
    "import cmems as cm\n",
    "import cartopy.crs as ccrs\n",
    "import hvplot.xarray"
   ]
  },
  {
   "cell_type": "markdown",
   "metadata": {},
   "source": [
    "## Select a timeseries range\n",
    "\n",
    "You can use [ONDA Advanced API (ENS)](https://www.onda-dias.eu/cms/knowledge-base/adapi-introduction/) to search for CMEMS products you are interested in. In this trial notebook you can specify the overall range of the timeseries via the widget below to automatically search for *Sea Surface Temperature* Global layers.<br>\n",
    "The parameter `freq` can assume values: `D` (daily), `W` (weekly) and `M` (monthly); also an integer fraction (e.g. `3 D`, `2 W`) can be added to the sampling option. <br> <font color=\"green\">Remember<font> to leave a white space between the string indicating frequence and the desired fraction."
   ]
  },
  {
   "cell_type": "code",
   "execution_count": null,
   "metadata": {},
   "outputs": [],
   "source": [
    "cm._select_(freq=\"M\")"
   ]
  },
  {
   "cell_type": "markdown",
   "metadata": {},
   "source": [
    "### Time series visualization of color mapped layers\n",
    "Visualize the timeseries in the plot below, playing with the slider to change the sensing period. <br> Visualisation can take several minutes depending on the dataset dimensions.\n",
    "\n",
    "👉*If using Jupyter Lab IDE, i.e. `/lab` in your URL, try to run one cell per time (not a RUN All) to display an `hvplot` via the `jupyterlab_pyviz` extension*"
   ]
  },
  {
   "cell_type": "code",
   "execution_count": null,
   "metadata": {},
   "outputs": [],
   "source": [
    "ims = cm.read_ds()\n",
    "ims.isel(time=slice(0,ims.shape[0],1)).hvplot.quadmesh('lon','lat',cmap='Spectral_r',rasterize=True,dynamic=False,crs=ccrs.PlateCarree(),projection=ccrs.PlateCarree(),project=True,geo=True,coastline=True,clabel=ims.attrs[\"units\"])"
   ]
  },
  {
   "cell_type": "code",
   "execution_count": null,
   "metadata": {},
   "outputs": [],
   "source": []
  }
 ],
 "metadata": {
  "kernelspec": {
   "display_name": "Python 3",
   "language": "python",
   "name": "python3"
  },
  "language_info": {
   "codemirror_mode": {
    "name": "ipython",
    "version": 3
   },
   "file_extension": ".py",
   "mimetype": "text/x-python",
   "name": "python",
   "nbconvert_exporter": "python",
   "pygments_lexer": "ipython3",
   "version": "3.7.6"
  }
 },
 "nbformat": 4,
 "nbformat_minor": 4
}

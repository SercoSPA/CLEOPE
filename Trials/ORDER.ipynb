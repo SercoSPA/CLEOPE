{
 "cells": [
  {
   "cell_type": "markdown",
   "metadata": {},
   "source": [
    "# How to order an archieved product\n",
    "Products moved in the nearline archive are not present into Cassandra DB, so they cannot be found in the VM file system by searching them via filename but they can be restored through an OData instance. If this is the case you can follow this tutorial to order products you need directly through this template notebook in a few simple steps."
   ]
  },
  {
   "cell_type": "code",
   "execution_count": 1,
   "metadata": {},
   "outputs": [],
   "source": [
    "from modules import qm"
   ]
  },
  {
   "cell_type": "raw",
   "metadata": {},
   "source": [
    "# run this section only for testing. The real use case begins with the following product instance\n",
    "url = \"https://catalogue.onda-dias.eu/dias-catalogue/Products?$search=%22(%20(%20platformName:Sentinel-1%20)%20)%20AND%20(%20(%20%20(offline:true)%20)%20)%22&$orderby=creationDate%20desc&$top=3&$skip=76&$format=json\"\n",
    "data = qm.get(url)\n",
    "print(\"Product:\\n%s\\nis missing in the database! Lets order it!\"%(data.iloc[0,2]+\"/\"+data.iloc[0,1]))\n",
    "#data.iloc[0,1] "
   ]
  },
  {
   "cell_type": "markdown",
   "metadata": {},
   "source": [
    "Insert here the product name you need to restore:"
   ]
  },
  {
   "cell_type": "code",
   "execution_count": 2,
   "metadata": {},
   "outputs": [],
   "source": [
    "product = \"S2A_MSIL1C_20170331T034531_N0204_R104_T51WVT_20170331T034530.zip\" # your filename.*zip,*.nc,*.gz here!"
   ]
  },
  {
   "cell_type": "markdown",
   "metadata": {},
   "source": [
    "Check if offline tag is set on True boolean value. If it is an instance of order will be triggered and carried on via OData API."
   ]
  },
  {
   "cell_type": "markdown",
   "metadata": {},
   "source": [
    "If yes then call the function order_product to retrieve the product you need. In the example below, the progress bar will update in the background, allowing the main kernel to do other computations.\n",
    "Typically restoring actions on the DB are completed into 20 minutes. Write ONDA username and password fields to trigger the ordering request:"
   ]
  },
  {
   "cell_type": "code",
   "execution_count": 3,
   "metadata": {},
   "outputs": [],
   "source": [
    "username = \"gaia.cipolletta@inaf.it\"\n",
    "password = \"Gaia1992@ondadias\""
   ]
  },
  {
   "cell_type": "code",
   "execution_count": 4,
   "metadata": {},
   "outputs": [
    {
     "data": {
      "text/html": [
       "<div>\n",
       "<style scoped>\n",
       "    .dataframe tbody tr th:only-of-type {\n",
       "        vertical-align: middle;\n",
       "    }\n",
       "\n",
       "    .dataframe tbody tr th {\n",
       "        vertical-align: top;\n",
       "    }\n",
       "\n",
       "    .dataframe thead th {\n",
       "        text-align: right;\n",
       "    }\n",
       "</style>\n",
       "<table border=\"1\" class=\"dataframe\">\n",
       "  <thead>\n",
       "    <tr style=\"text-align: right;\">\n",
       "      <th></th>\n",
       "      <th>id</th>\n",
       "      <th>name</th>\n",
       "      <th>pseudopath</th>\n",
       "      <th>beginPosition</th>\n",
       "      <th>footprint</th>\n",
       "      <th>size</th>\n",
       "      <th>offline</th>\n",
       "    </tr>\n",
       "  </thead>\n",
       "  <tbody>\n",
       "    <tr>\n",
       "      <th>0</th>\n",
       "      <td>fe8811b9-fcf9-4054-ba0d-ece4af6bf5fb</td>\n",
       "      <td>S2A_MSIL1C_20170331T034531_N0204_R104_T51WVT_2...</td>\n",
       "      <td>OPTICAL/LEVEL-1C/2017/03/31</td>\n",
       "      <td>2017-03-31T03:45:31.026Z</td>\n",
       "      <td>MULTIPOLYGON (((120.463091598883 69.3028130330...</td>\n",
       "      <td>754596728.0</td>\n",
       "      <td>True</td>\n",
       "    </tr>\n",
       "  </tbody>\n",
       "</table>\n",
       "</div>"
      ],
      "text/plain": [
       "                                     id  \\\n",
       "0  fe8811b9-fcf9-4054-ba0d-ece4af6bf5fb   \n",
       "\n",
       "                                                name  \\\n",
       "0  S2A_MSIL1C_20170331T034531_N0204_R104_T51WVT_2...   \n",
       "\n",
       "                    pseudopath             beginPosition  \\\n",
       "0  OPTICAL/LEVEL-1C/2017/03/31  2017-03-31T03:45:31.026Z   \n",
       "\n",
       "                                           footprint         size offline  \n",
       "0  MULTIPOLYGON (((120.463091598883 69.3028130330...  754596728.0    True  "
      ]
     },
     "metadata": {},
     "output_type": "display_data"
    },
    {
     "name": "stdout",
     "output_type": "stream",
     "text": [
      "UUID to order: fe8811b9-fcf9-4054-ba0d-ece4af6bf5fb\n",
      "Instance is RUNNING.\n",
      "Estimated time out 09:32:01 UTC\n"
     ]
    },
    {
     "data": {
      "application/vnd.jupyter.widget-view+json": {
       "model_id": "a5334671bf8843d0a9d0984a458f993b",
       "version_major": 2,
       "version_minor": 0
      },
      "text/plain": [
       "FloatProgress(value=0.0, description='Ordering', max=1.0)"
      ]
     },
     "metadata": {},
     "output_type": "display_data"
    },
    {
     "name": "stdout",
     "output_type": "stream",
     "text": [
      "1800.032\n",
      "All done! Check out product:\n",
      "/mnt/Copernicus/OPTICAL/LEVEL-1C/2017/03/31/S2A_MSIL1C_20170331T034531_N0204_R104_T51WVT_20170331T034530.zip\n"
     ]
    }
   ],
   "source": [
    "df = qm.order(product,username,password)\n",
    "status = qm.check_out_product(product)"
   ]
  },
  {
   "cell_type": "markdown",
   "metadata": {},
   "source": [
    "Check out the progress bar above, once process has been ultimated product has been successfully restored and its associated metadata are updated into the online archive. This means that you will find the product at its original pseudopath.\n",
    "\n",
    "If product is still not available please retry later! ENS will update in an hour."
   ]
  },
  {
   "cell_type": "raw",
   "metadata": {},
   "source": [
    "df = qm.get_my_product(product)\n",
    "display(df)\n",
    "# this is a download instance from ONDA catalogue\n",
    "qm.download(product,username,password)"
   ]
  },
  {
   "cell_type": "raw",
   "metadata": {},
   "source": []
  }
 ],
 "metadata": {
  "kernelspec": {
   "display_name": "Python 3",
   "language": "python",
   "name": "python3"
  },
  "language_info": {
   "codemirror_mode": {
    "name": "ipython",
    "version": 3
   },
   "file_extension": ".py",
   "mimetype": "text/x-python",
   "name": "python",
   "nbconvert_exporter": "python",
   "pygments_lexer": "ipython3",
   "version": "3.7.6"
  }
 },
 "nbformat": 4,
 "nbformat_minor": 2
}

{
 "cells": [
  {
   "cell_type": "markdown",
   "metadata": {},
   "source": [
    "<img src=\"media/onda_logo.jpg\" alt=\"logo onda\" height=\"200\" width=\"200\">\n",
    "\n",
    "# How to order an archived product\n",
    "Products moved in the nearline archive are not present into Cassandra DB, so they cannot be found in the VM file system by searching them via filename but they can be restored through an OData instance. If this is the case you can follow this tutorial to order products you need directly through this template notebook in a few simple steps."
   ]
  },
  {
   "cell_type": "code",
   "execution_count": 1,
   "metadata": {},
   "outputs": [],
   "source": [
    "from modules import qm"
   ]
  },
  {
   "cell_type": "raw",
   "metadata": {},
   "source": [
    "# run this section only for testing. The real use case begins with the following product instance\n",
    "url = \"https://catalogue.onda-dias.eu/dias-catalogue/Products?$search=%22(%20(%20platformName:Sentinel-2%20)%20)%20AND%20(%20(%20%20(offline:true)%20)%20)%22&$orderby=creationDate%20desc&$top=3&$skip=76&$format=json\"\n",
    "data = qm.get(url)\n",
    "print(\"Product:\\n%s\\nis missing in the database! Lets order it!\"%(data.iloc[0,2]+\"/\"+data.iloc[0,1]))\n",
    "#data.iloc[0,1] "
   ]
  },
  {
   "cell_type": "markdown",
   "metadata": {},
   "source": [
    "Insert here the product name you need to restore:"
   ]
  },
  {
   "cell_type": "code",
   "execution_count": 3,
   "metadata": {},
   "outputs": [],
   "source": [
    "product = \"S2A_MSIL1C_20170327T022541_N0204_R046_T50QRG_20170327T023241.zip\" # your filename.*zip,*.nc,*.gz here!"
   ]
  },
  {
   "cell_type": "markdown",
   "metadata": {},
   "source": [
    "If the offline tag of this product is set to `true` then the function `order_product` will retrieve it. Typically restoring actions on the DB are completed into 20 minutes. \n",
    "\n",
    "Write your ONDA username and password fields to trigger the ordering request:"
   ]
  },
  {
   "cell_type": "code",
   "execution_count": 4,
   "metadata": {},
   "outputs": [],
   "source": [
    "username = \"gaia.cipolletta@inaf.it\"\n",
    "password = \"Gaia1992@ondadias\""
   ]
  },
  {
   "cell_type": "code",
   "execution_count": 5,
   "metadata": {},
   "outputs": [
    {
     "data": {
      "text/html": [
       "<div>\n",
       "<style scoped>\n",
       "    .dataframe tbody tr th:only-of-type {\n",
       "        vertical-align: middle;\n",
       "    }\n",
       "\n",
       "    .dataframe tbody tr th {\n",
       "        vertical-align: top;\n",
       "    }\n",
       "\n",
       "    .dataframe thead th {\n",
       "        text-align: right;\n",
       "    }\n",
       "</style>\n",
       "<table border=\"1\" class=\"dataframe\">\n",
       "  <thead>\n",
       "    <tr style=\"text-align: right;\">\n",
       "      <th></th>\n",
       "      <th>id</th>\n",
       "      <th>name</th>\n",
       "      <th>pseudopath</th>\n",
       "      <th>beginPosition</th>\n",
       "      <th>footprint</th>\n",
       "      <th>size</th>\n",
       "      <th>offline</th>\n",
       "    </tr>\n",
       "  </thead>\n",
       "  <tbody>\n",
       "    <tr>\n",
       "      <th>0</th>\n",
       "      <td>ff3cf3ea-f12d-417e-adda-a884a9cbb0ec</td>\n",
       "      <td>S2A_MSIL1C_20170327T022541_N0204_R046_T50QRG_2...</td>\n",
       "      <td>OPTICAL/LEVEL-1C/2017/03/27</td>\n",
       "      <td>2017-03-27T02:25:41.026Z</td>\n",
       "      <td>MULTIPOLYGON (((120.887861137026 18.8634632703...</td>\n",
       "      <td>629810046.0</td>\n",
       "      <td>True</td>\n",
       "    </tr>\n",
       "  </tbody>\n",
       "</table>\n",
       "</div>"
      ],
      "text/plain": [
       "                                     id  \\\n",
       "0  ff3cf3ea-f12d-417e-adda-a884a9cbb0ec   \n",
       "\n",
       "                                                name  \\\n",
       "0  S2A_MSIL1C_20170327T022541_N0204_R046_T50QRG_2...   \n",
       "\n",
       "                    pseudopath             beginPosition  \\\n",
       "0  OPTICAL/LEVEL-1C/2017/03/27  2017-03-27T02:25:41.026Z   \n",
       "\n",
       "                                           footprint         size offline  \n",
       "0  MULTIPOLYGON (((120.887861137026 18.8634632703...  629810046.0    True  "
      ]
     },
     "metadata": {},
     "output_type": "display_data"
    },
    {
     "name": "stdout",
     "output_type": "stream",
     "text": [
      "UUID to order: ff3cf3ea-f12d-417e-adda-a884a9cbb0ec\n",
      "Instance is RUNNING.\n",
      "Estimated time out 08:20:03 UTC\n",
      "Wait for further 10 minutes to be sure ENS is properly refreshed.\n"
     ]
    },
    {
     "data": {
      "application/vnd.jupyter.widget-view+json": {
       "model_id": "50fe35b3a8ad4f45becc23a921a21986",
       "version_major": 2,
       "version_minor": 0
      },
      "text/plain": [
       "FloatProgress(value=0.0, description='Ordering', max=1.0)"
      ]
     },
     "metadata": {},
     "output_type": "display_data"
    },
    {
     "name": "stdout",
     "output_type": "stream",
     "text": [
      "All done! Check out product:\n",
      "/mnt/Copernicus/OPTICAL/LEVEL-1C/2017/03/27/S2A_MSIL1C_20170327T022541_N0204_R046_T50QRG_20170327T023241.zip\n"
     ]
    }
   ],
   "source": [
    "df = qm.order(product,username,password)\n",
    "status = qm.check_out_product(product)"
   ]
  },
  {
   "cell_type": "markdown",
   "metadata": {},
   "source": [
    "Check out the progress bar above. We have added 10 minutes to the estimated time out just to be sure that ENS is properly refreshed.\n",
    "When finished, the product is successfully restored and its associated metadata are updated into the online archive. This means that you will find the product at its original pseudopath.\n",
    "\n",
    "If product is still not available please retry later!"
   ]
  },
  {
   "cell_type": "markdown",
   "metadata": {},
   "source": [
    "# How to download a product on ONDA catalogue\n",
    "Run the following cell to download a product from ONDA Catalogue. The download function uses the Catalogue Open Data protocol, you just need to specify the product name as before. Please note that product must be <font color=\"green\">online</font> to allow download! <br>[Read more here.](https://www.onda-dias.eu/cms/knowledge-base/dataaccess-via-catalogue-odata-api/)"
   ]
  },
  {
   "cell_type": "code",
   "execution_count": null,
   "metadata": {},
   "outputs": [],
   "source": [
    "df = qm.get_my_product(product)\n",
    "display(df)\n",
    "qm.download(product,username,password)"
   ]
  }
 ],
 "metadata": {
  "kernelspec": {
   "display_name": "Python 3",
   "language": "python",
   "name": "python3"
  },
  "language_info": {
   "codemirror_mode": {
    "name": "ipython",
    "version": 3
   },
   "file_extension": ".py",
   "mimetype": "text/x-python",
   "name": "python",
   "nbconvert_exporter": "python",
   "pygments_lexer": "ipython3",
   "version": "3.7.6"
  }
 },
 "nbformat": 4,
 "nbformat_minor": 4
}

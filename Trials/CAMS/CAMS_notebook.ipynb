{
 "cells": [
  {
   "cell_type": "markdown",
   "metadata": {},
   "source": [
    "# CAMS surface fields interactive global maps"
   ]
  },
  {
   "cell_type": "markdown",
   "metadata": {},
   "source": [
    "This interactive tutorial is aimed at visualising data of the <font color=\"sky blue\">Copernicus Atmosphere Monitoring Service</font> (CAMS) sensed during a period of your choice via the widgets below.<br>For example you can try selecting the range from November 2019 to March 2020 so that you can see atmosphere changes all around the world after a couple of serious events:\n",
    "* Fires which hit the western of Australia during December 2019 and January 2020 - try out <font color=\"green\">carbon monoxide</font> and <font color=\"green\">formaldehyde</font> molecules in particular;\n",
    "* COVID-19 epidemic which has induced variations in the greenhouse gases, in particular over China - try out <font color=\"green\">nitrogen dioxide</font>\n",
    "\n",
    "Surface Fields CAMS data are sensed at GMT 00:00 and GMT 12:00 each day. We suggest you to select both only for chemical elements unsensitive to sunlight."
   ]
  },
  {
   "cell_type": "code",
   "execution_count": null,
   "metadata": {},
   "outputs": [],
   "source": [
    "import os, sys\n",
    "sys.path.append(os.path.join(os.path.expanduser(\"~\"),\"CLEOPE/Trials/modules\"))\n",
    "import cams as atm\n",
    "import hvplot.xarray, xarray\n",
    "import cartopy.crs as ccrs"
   ]
  },
  {
   "cell_type": "markdown",
   "metadata": {},
   "source": [
    "### Use the Advanced API \n",
    "You can use the Advanced API to search for products you are interested in. You just need to specify the period and the variable you want to monitor using the widget below."
   ]
  },
  {
   "cell_type": "code",
   "execution_count": null,
   "metadata": {},
   "outputs": [],
   "source": [
    "atm._select_()"
   ]
  },
  {
   "cell_type": "markdown",
   "metadata": {},
   "source": [
    "You can change the frequence parameter among `D` (daily), `W` (weekly) and `M` (monthly) options and add also an integer fraction (e.g. `3 D`, `2 W`). <br> <font color=\"green\">Remember<font> to leave a white space between the string indicating frequence and the `int` fraction."
   ]
  },
  {
   "cell_type": "code",
   "execution_count": null,
   "metadata": {},
   "outputs": [],
   "source": [
    "im = atm._processing_(freq=\"15 D\")"
   ]
  },
  {
   "cell_type": "markdown",
   "metadata": {},
   "source": [
    "### Time series visualization \n",
    "The timeseries will be shown the `hvplot` below. You can play with the slider panel to change period according to the frequence chosen above. We are visualising variables in logaritmic scale for a better visualization result. You can easily disable this option by calling `im` data-array directly before the `isel` sampling.<br>\n",
    "\n",
    "👉*If using Jupyter Lab IDE, i.e. `/lab` in your URL, try to run one cell per time (not a RUN All) to display `hvplot` via the `jupyterlab_pyviz` extension*"
   ]
  },
  {
   "cell_type": "code",
   "execution_count": null,
   "metadata": {},
   "outputs": [],
   "source": [
    "tmax = len(im.time.data) # slice data throughout all the period\n",
    "xarray.ufuncs.log10(im).isel(time=slice(0,tmax,1)).hvplot.quadmesh('longitude', 'latitude',cmap='Rainbow',crs=ccrs.PlateCarree(),projection=ccrs.PlateCarree(),project=True,geo=True,rasterize=True,dynamic=False,coastline=True,clabel=im.attrs[\"units\"])"
   ]
  },
  {
   "cell_type": "markdown",
   "metadata": {},
   "source": [
    "### Slicing a geographical area\n",
    "If you need to focus on a particular area of interest, you can slice the map along `latitude` and `longitude` dimensions. In this way the colorbar is color-adjusted over the new frame. The global plot above may help you in setting the coordinates limits via the `rasterize=True` attribute, you just need to move the cursor on the map. "
   ]
  },
  {
   "cell_type": "code",
   "execution_count": null,
   "metadata": {},
   "outputs": [],
   "source": [
    "xarray.ufuncs.log10(im).sel(latitude=slice(-3,-42),longitude=slice(115,158)).hvplot.quadmesh('longitude','latitude',crs=ccrs.PlateCarree(), projection=ccrs.PlateCarree(),cmap='Rainbow', project=True, geo=True,rasterize=True, coastline=True,dynamic=False)"
   ]
  },
  {
   "cell_type": "code",
   "execution_count": null,
   "metadata": {},
   "outputs": [],
   "source": []
  }
 ],
 "metadata": {
  "kernelspec": {
   "display_name": "Python 3",
   "language": "python",
   "name": "python3"
  },
  "language_info": {
   "codemirror_mode": {
    "name": "ipython",
    "version": 3
   },
   "file_extension": ".py",
   "mimetype": "text/x-python",
   "name": "python",
   "nbconvert_exporter": "python",
   "pygments_lexer": "ipython3",
   "version": "3.7.6"
  }
 },
 "nbformat": 4,
 "nbformat_minor": 4
}

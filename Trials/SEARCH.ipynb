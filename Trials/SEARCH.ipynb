{
 "cells": [
  {
   "cell_type": "markdown",
   "metadata": {},
   "source": [
    "# AOI search via Jupyter notebook"
   ]
  },
  {
   "cell_type": "code",
   "execution_count": 2,
   "metadata": {},
   "outputs": [],
   "source": [
    "import os\n",
    "from modules import aoi, buttons\n",
    "from ipywidgets import interact"
   ]
  },
  {
   "cell_type": "markdown",
   "metadata": {},
   "source": [
    "## Draw a polygon on the map! \n",
    "- Select an area of interest (AOI) choosing a shape among the buttons on the left side\n",
    "- Only one polygon per time is supported by this version\n",
    "- *!!* Do not scroll world window and draw your AOI in a world copy. This will generate non valid coordinates for the query ([Issue #96](https://github.com/jupyter-widgets/ipyleaflet/issues/96))"
   ]
  },
  {
   "cell_type": "code",
   "execution_count": 3,
   "metadata": {
    "scrolled": true
   },
   "outputs": [
    {
     "data": {
      "application/vnd.jupyter.widget-view+json": {
       "model_id": "fbd012a85ce4446ea74ad8771de1e4d7",
       "version_major": 2,
       "version_minor": 0
      },
      "text/plain": [
       "Map(center=[40.853294, 14.305573], controls=(ZoomControl(options=['position', 'zoom_in_text', 'zoom_in_title',…"
      ]
     },
     "metadata": {},
     "output_type": "display_data"
    },
    {
     "name": "stdout",
     "output_type": "stream",
     "text": [
      "Action: created\n",
      "{'type': 'Polygon', 'coordinates': [[[137.763546, -43.216385], [137.763546, -9.994818], [162.912452, -9.994818], [162.912452, -43.216385], [137.763546, -43.216385]]]}\n",
      "\n",
      "Selection saved\n"
     ]
    }
   ],
   "source": [
    "m,dc = aoi.define_map()\n",
    "def handle_draw(self, action, geo_json):\n",
    "    print(\"Action: %s\"%action)\n",
    "    print(geo_json[\"geometry\"])\n",
    "    buttons.save_aoi(geo_json)\n",
    "\n",
    "dc.on_draw(handle_draw)\n",
    "m.add_control(dc)\n",
    "display(m)"
   ]
  },
  {
   "cell_type": "markdown",
   "metadata": {},
   "source": [
    "## Set some filters!\n",
    "- Remember to submit each field (even if not set)."
   ]
  },
  {
   "cell_type": "code",
   "execution_count": 4,
   "metadata": {
    "scrolled": true
   },
   "outputs": [
    {
     "data": {
      "application/vnd.jupyter.widget-view+json": {
       "model_id": "1f2b634e58164576af168baae7656392",
       "version_major": 2,
       "version_minor": 0
      },
      "text/plain": [
       "DatePicker(value=None, description='Sensed from:')"
      ]
     },
     "metadata": {},
     "output_type": "display_data"
    },
    {
     "data": {
      "application/vnd.jupyter.widget-view+json": {
       "model_id": "eb35980d0c234c42ba29b0cccad9695e",
       "version_major": 2,
       "version_minor": 0
      },
      "text/plain": [
       "DatePicker(value=None, description='Sensed to:')"
      ]
     },
     "metadata": {},
     "output_type": "display_data"
    },
    {
     "data": {
      "application/vnd.jupyter.widget-view+json": {
       "model_id": "20c5832ef2e741cda57e3ece2bca4a9f",
       "version_major": 2,
       "version_minor": 0
      },
      "text/plain": [
       "Button(description='Submit sensing range', style=ButtonStyle())"
      ]
     },
     "metadata": {},
     "output_type": "display_data"
    },
    {
     "data": {
      "application/vnd.jupyter.widget-view+json": {
       "model_id": "d9b393f5fcb44c4792a5c4ea06c60eed",
       "version_major": 2,
       "version_minor": 0
      },
      "text/plain": [
       "Select(options={'All': ['-'], 'Sentinel-1': ['All S1', 'SLC', 'GRD', 'OCN', 'RAW'], 'Sentinel-2': ['All S2', '…"
      ]
     },
     "metadata": {},
     "output_type": "display_data"
    },
    {
     "data": {
      "application/vnd.jupyter.widget-view+json": {
       "model_id": "bb8ba95dd9024f919548d3cb690ef3a7",
       "version_major": 2,
       "version_minor": 0
      },
      "text/plain": [
       "Button(description='Submit mission', style=ButtonStyle())"
      ]
     },
     "metadata": {},
     "output_type": "display_data"
    },
    {
     "name": "stdout",
     "output_type": "stream",
     "text": [
      "Sensing range from 2019-12-28 to 2019-12-31\n"
     ]
    },
    {
     "data": {
      "application/vnd.jupyter.widget-view+json": {
       "model_id": "ffb7ad6ad2af43f68521827168199b8b",
       "version_major": 2,
       "version_minor": 0
      },
      "text/plain": [
       "Dropdown(description='Product type:', layout=Layout(width='30%'), options=('All S5P', 'L1B_IR_SIR', 'L1B_IR_UV…"
      ]
     },
     "metadata": {},
     "output_type": "display_data"
    },
    {
     "data": {
      "application/vnd.jupyter.widget-view+json": {
       "model_id": "30a9844aa5994b6db203b86e53389d1e",
       "version_major": 2,
       "version_minor": 0
      },
      "text/plain": [
       "Button(description='Submit product type', style=ButtonStyle())"
      ]
     },
     "metadata": {},
     "output_type": "display_data"
    }
   ],
   "source": [
    "buttons._filters_()"
   ]
  },
  {
   "cell_type": "code",
   "execution_count": 5,
   "metadata": {
    "scrolled": true
   },
   "outputs": [
    {
     "name": "stdout",
     "output_type": "stream",
     "text": [
      "Searching for products...\n",
      "https://catalogue.onda-dias.eu/dias-catalogue/Products/$count?$search=%22(%20(%20(%20platformName:Sentinel-5 Precursor%20AND%20productType:L2__HCHO__%20)%20)%20AND%20(%20(%20beginPosition:[2019-12-28T00:00:00.000Z%20TO%202019-12-31T23:59:59.999Z]%20AND%20endPosition:[2019-12-28T00:00:00.000Z%20TO%202019-12-31T23:59:59.999Z]%20)%20)%20)%20AND%20footprint:%22Intersects(POLYGON((137.763546%20-43.216385,137.763546%20-9.994818,162.912452%20-9.994818,162.912452%20-43.216385,137.763546%20-43.216385)))%22%22\n",
      "12 products found\n"
     ]
    },
    {
     "data": {
      "application/vnd.jupyter.widget-view+json": {
       "model_id": "47d1d19fde1a4e478bc60df30ec9a00f",
       "version_major": 2,
       "version_minor": 0
      },
      "text/plain": [
       "HBox(children=(FloatProgress(value=0.0, description='Loading query', max=1.0, style=ProgressStyle(description_…"
      ]
     },
     "metadata": {},
     "output_type": "display_data"
    },
    {
     "name": "stdout",
     "output_type": "stream",
     "text": [
      "\n"
     ]
    }
   ],
   "source": [
    "polysel = buttons.read_aoi()\n",
    "item = buttons.read_mp()\n",
    "sensing = buttons.read_sen()\n",
    "n = aoi.count(polysel,item,sensing)\n",
    "df = aoi.search(n,polysel,item,sensing)"
   ]
  },
  {
   "cell_type": "code",
   "execution_count": 6,
   "metadata": {},
   "outputs": [
    {
     "data": {
      "application/vnd.jupyter.widget-view+json": {
       "model_id": "95bfa1dc1d8e4786bca7d44d210a70d4",
       "version_major": 2,
       "version_minor": 0
      },
      "text/plain": [
       "interactive(children=(Dropdown(description='product', options=('S5P_OFFL_L2__HCHO___20191230T045347_20191230T0…"
      ]
     },
     "metadata": {},
     "output_type": "display_data"
    }
   ],
   "source": [
    "@interact\n",
    "def _iFP_(product=[f for f in df.iloc[:,1]]): \n",
    "    keys = df.index[df['name'] == product].tolist()\n",
    "    m = aoi.update_Map(keys,polysel,df)\n",
    "    display(m)\n",
    "    display(df.loc[keys])\n",
    "    aoi.warning(df.loc[keys].iloc[:,6].any())\n",
    "    print(\"Find item at: %s\"%os.path.join(str(df.loc[keys].iloc[:,2].any()),str(df.loc[keys].iloc[:,1].any())))"
   ]
  },
  {
   "cell_type": "markdown",
   "metadata": {},
   "source": [
    "## Save your selections!\n",
    "\n",
    "- Choose products you wish to collect and submit each of them. This will produce a dat set named *saved_query.csv* in the *output* folder. \n",
    "- *!!* Warning. Re-running this cell will erase the data set. Select and submit items in the current run."
   ]
  },
  {
   "cell_type": "code",
   "execution_count": 6,
   "metadata": {},
   "outputs": [
    {
     "data": {
      "application/vnd.jupyter.widget-view+json": {
       "model_id": "bdb4ed64fe7942ccb16204d45ac2e63e",
       "version_major": 2,
       "version_minor": 0
      },
      "text/plain": [
       "VBox(children=(SelectMultiple(description='Product', index=(0,), layout=Layout(width='100%'), options=('S3B_OL…"
      ]
     },
     "metadata": {},
     "output_type": "display_data"
    }
   ],
   "source": [
    "sel = buttons.select_product(df)\n",
    "sel.display_widgets() "
   ]
  },
  {
   "cell_type": "markdown",
   "metadata": {},
   "source": [
    "## Copy AOI dataframe in a destination folder\n",
    "You may find useful to copy this dataframe into a destination folder. Specify the filename (saved_query.json or polygons.json) and the destination path. By default path is set to outputs folder."
   ]
  },
  {
   "cell_type": "code",
   "execution_count": 11,
   "metadata": {},
   "outputs": [],
   "source": [
    "file = \"outputs/list.txt\" # dataframe containing metadata \n",
    "dest = os.path.join(os.getcwd(),\"S5P\") # destination path here\n",
    "aoi.copy2(os.path.join(os.getcwd(),file),dest) "
   ]
  },
  {
   "cell_type": "code",
   "execution_count": null,
   "metadata": {},
   "outputs": [],
   "source": [
    "file = \"outputs/polygon.json\" # selected polygon\n",
    "dest = os.path.join(os.getcwd(),\"S5P\") # destination path here\n",
    "aoi.copy2(os.path.join(os.getcwd(),file),dest) "
   ]
  },
  {
   "cell_type": "code",
   "execution_count": null,
   "metadata": {},
   "outputs": [],
   "source": []
  }
 ],
 "metadata": {
  "kernelspec": {
   "display_name": "Python 3",
   "language": "python",
   "name": "python3"
  },
  "language_info": {
   "codemirror_mode": {
    "name": "ipython",
    "version": 3
   },
   "file_extension": ".py",
   "mimetype": "text/x-python",
   "name": "python",
   "nbconvert_exporter": "python",
   "pygments_lexer": "ipython3",
   "version": "3.7.6"
  }
 },
 "nbformat": 4,
 "nbformat_minor": 2
}
